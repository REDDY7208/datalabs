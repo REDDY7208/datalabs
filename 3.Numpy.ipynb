{
 "cells": [
  {
   "cell_type": "markdown",
   "id": "2b158926",
   "metadata": {},
   "source": [
    "###### NumPy is a library for the Python programming language, adding support for large, multi-dimensional arrays and matrices, along with a large collection of high-level mathematical functions to operate on these arrays"
   ]
  },
  {
   "cell_type": "code",
   "execution_count": 1,
   "id": "1f138989",
   "metadata": {},
   "outputs": [],
   "source": [
    "pip install numpy\n",
    "import numpy as np"
   ]
  },
  {
   "cell_type": "markdown",
   "id": "3ecc73be",
   "metadata": {},
   "source": [
    "### space checking"
   ]
  },
  {
   "cell_type": "code",
   "execution_count": 2,
   "id": "a6baa431",
   "metadata": {},
   "outputs": [],
   "source": [
    "lst = range(1000)"
   ]
  },
  {
   "cell_type": "code",
   "execution_count": 3,
   "id": "6317cca7",
   "metadata": {},
   "outputs": [
    {
     "data": {
      "text/plain": [
       "range(0, 1000)"
      ]
     },
     "execution_count": 3,
     "metadata": {},
     "output_type": "execute_result"
    }
   ],
   "source": [
    "lst"
   ]
  },
  {
   "cell_type": "code",
   "execution_count": 4,
   "id": "df8adda2",
   "metadata": {},
   "outputs": [],
   "source": [
    "import sys"
   ]
  },
  {
   "cell_type": "code",
   "execution_count": 5,
   "id": "8b0c201e",
   "metadata": {},
   "outputs": [
    {
     "data": {
      "text/plain": [
       "28000"
      ]
     },
     "execution_count": 5,
     "metadata": {},
     "output_type": "execute_result"
    }
   ],
   "source": [
    "sys.getsizeof(4)*len(lst)"
   ]
  },
  {
   "cell_type": "code",
   "execution_count": 6,
   "id": "b4b38f92",
   "metadata": {},
   "outputs": [],
   "source": [
    "arr = np.arange(1000)"
   ]
  },
  {
   "cell_type": "code",
   "execution_count": 7,
   "id": "93fdd88e",
   "metadata": {},
   "outputs": [
    {
     "data": {
      "text/plain": [
       "4000"
      ]
     },
     "execution_count": 7,
     "metadata": {},
     "output_type": "execute_result"
    }
   ],
   "source": [
    "arr.size*arr.itemsize"
   ]
  },
  {
   "cell_type": "markdown",
   "id": "91143946",
   "metadata": {},
   "source": [
    "### Fastness"
   ]
  },
  {
   "cell_type": "code",
   "execution_count": 8,
   "id": "1b76affa",
   "metadata": {},
   "outputs": [],
   "source": [
    "lst1 = range(1000000)\n",
    "lst2 = range(1000000)"
   ]
  },
  {
   "cell_type": "code",
   "execution_count": 9,
   "id": "df485a14",
   "metadata": {},
   "outputs": [],
   "source": [
    "import time"
   ]
  },
  {
   "cell_type": "code",
   "execution_count": 11,
   "id": "3c6b6b17",
   "metadata": {
    "scrolled": true
   },
   "outputs": [
    {
     "name": "stdout",
     "output_type": "stream",
     "text": [
      "184.89360809326172\n"
     ]
    }
   ],
   "source": [
    "start = time.time()\n",
    "result = [(x+y) for x,y in zip(lst1,lst2)]\n",
    "print((time.time()-start)*1000)"
   ]
  },
  {
   "cell_type": "code",
   "execution_count": 12,
   "id": "4ce13c7e",
   "metadata": {},
   "outputs": [],
   "source": [
    "arr1= np.arange(1000000)\n",
    "arr2= np.arange(1000000)"
   ]
  },
  {
   "cell_type": "code",
   "execution_count": 14,
   "id": "1195e32c",
   "metadata": {},
   "outputs": [
    {
     "name": "stdout",
     "output_type": "stream",
     "text": [
      "18.99242401123047\n"
     ]
    }
   ],
   "source": [
    "start = time.time()\n",
    "result = arr1+arr2\n",
    "print((time.time()-start)*1000)"
   ]
  },
  {
   "cell_type": "markdown",
   "id": "0fe7b326",
   "metadata": {},
   "source": [
    "#### Flexibilty"
   ]
  },
  {
   "cell_type": "code",
   "execution_count": 15,
   "id": "12f615c2",
   "metadata": {},
   "outputs": [
    {
     "data": {
      "text/plain": [
       "array([      0,       2,       4, ..., 1999994, 1999996, 1999998])"
      ]
     },
     "execution_count": 15,
     "metadata": {},
     "output_type": "execute_result"
    }
   ],
   "source": [
    "arr1+arr2"
   ]
  },
  {
   "cell_type": "code",
   "execution_count": 16,
   "id": "2c170f22",
   "metadata": {},
   "outputs": [
    {
     "data": {
      "text/plain": [
       "array([         0,          1,          4, ..., -733379959, -731379964,\n",
       "       -729379967])"
      ]
     },
     "execution_count": 16,
     "metadata": {},
     "output_type": "execute_result"
    }
   ],
   "source": [
    "arr2*arr2"
   ]
  },
  {
   "cell_type": "code",
   "execution_count": 18,
   "id": "9fbf29f0",
   "metadata": {},
   "outputs": [],
   "source": [
    "lst = [1,2,3,3,3,3,3,3,3,3,3,3,3]"
   ]
  },
  {
   "cell_type": "code",
   "execution_count": 19,
   "id": "593b57be",
   "metadata": {},
   "outputs": [
    {
     "data": {
      "text/plain": [
       "[1, 2, 3, 3, 3, 3, 3, 3, 3, 3, 3, 3, 3, 1, 2, 3, 3, 3, 3, 3, 3, 3, 3, 3, 3, 3]"
      ]
     },
     "execution_count": 19,
     "metadata": {},
     "output_type": "execute_result"
    }
   ],
   "source": [
    "lst+lst"
   ]
  },
  {
   "cell_type": "code",
   "execution_count": 20,
   "id": "58fbae23",
   "metadata": {},
   "outputs": [
    {
     "name": "stderr",
     "output_type": "stream",
     "text": [
      "C:\\Users\\SMARTB~1\\AppData\\Local\\Temp/ipykernel_3660/4263725751.py:1: RuntimeWarning: invalid value encountered in true_divide\n",
      "  arr2/arr2\n"
     ]
    },
    {
     "data": {
      "text/plain": [
       "array([nan,  1.,  1., ...,  1.,  1.,  1.])"
      ]
     },
     "execution_count": 20,
     "metadata": {},
     "output_type": "execute_result"
    }
   ],
   "source": [
    "arr2/arr2"
   ]
  },
  {
   "cell_type": "markdown",
   "id": "5dff3e32",
   "metadata": {},
   "source": [
    "### creating a array"
   ]
  },
  {
   "cell_type": "code",
   "execution_count": 21,
   "id": "1f34545e",
   "metadata": {},
   "outputs": [],
   "source": [
    "a = np.array([1,2,3,4,5])"
   ]
  },
  {
   "cell_type": "code",
   "execution_count": 22,
   "id": "8a3cc11c",
   "metadata": {},
   "outputs": [
    {
     "data": {
      "text/plain": [
       "array([1, 2, 3, 4, 5])"
      ]
     },
     "execution_count": 22,
     "metadata": {},
     "output_type": "execute_result"
    }
   ],
   "source": [
    "a"
   ]
  },
  {
   "cell_type": "code",
   "execution_count": 23,
   "id": "a3eed48b",
   "metadata": {},
   "outputs": [
    {
     "data": {
      "text/plain": [
       "1"
      ]
     },
     "execution_count": 23,
     "metadata": {},
     "output_type": "execute_result"
    }
   ],
   "source": [
    "a.ndim"
   ]
  },
  {
   "cell_type": "code",
   "execution_count": 24,
   "id": "85df1559",
   "metadata": {},
   "outputs": [],
   "source": [
    "a = np.array([[2,3,4,5],[3,4,5,6]])"
   ]
  },
  {
   "cell_type": "code",
   "execution_count": 25,
   "id": "69598a0d",
   "metadata": {},
   "outputs": [
    {
     "data": {
      "text/plain": [
       "array([[2, 3, 4, 5],\n",
       "       [3, 4, 5, 6]])"
      ]
     },
     "execution_count": 25,
     "metadata": {},
     "output_type": "execute_result"
    }
   ],
   "source": [
    "a"
   ]
  },
  {
   "cell_type": "code",
   "execution_count": 26,
   "id": "a80d1cbd",
   "metadata": {},
   "outputs": [
    {
     "data": {
      "text/plain": [
       "2"
      ]
     },
     "execution_count": 26,
     "metadata": {},
     "output_type": "execute_result"
    }
   ],
   "source": [
    "a.ndim"
   ]
  },
  {
   "cell_type": "code",
   "execution_count": 27,
   "id": "1b524904",
   "metadata": {},
   "outputs": [],
   "source": [
    "a = np.array([[2,3,4,5],[3,4,5,6],[3,4,5,5,]])"
   ]
  },
  {
   "cell_type": "code",
   "execution_count": 28,
   "id": "20191b0f",
   "metadata": {},
   "outputs": [
    {
     "data": {
      "text/plain": [
       "array([[2, 3, 4, 5],\n",
       "       [3, 4, 5, 6],\n",
       "       [3, 4, 5, 5]])"
      ]
     },
     "execution_count": 28,
     "metadata": {},
     "output_type": "execute_result"
    }
   ],
   "source": [
    "a"
   ]
  },
  {
   "cell_type": "code",
   "execution_count": 29,
   "id": "732b238e",
   "metadata": {},
   "outputs": [
    {
     "data": {
      "text/plain": [
       "2"
      ]
     },
     "execution_count": 29,
     "metadata": {},
     "output_type": "execute_result"
    }
   ],
   "source": [
    "a.ndim"
   ]
  },
  {
   "cell_type": "markdown",
   "id": "092c829d",
   "metadata": {},
   "source": [
    "#### zeros and one's"
   ]
  },
  {
   "cell_type": "code",
   "execution_count": 30,
   "id": "10264d07",
   "metadata": {},
   "outputs": [],
   "source": [
    "var = np.zeros(10)"
   ]
  },
  {
   "cell_type": "code",
   "execution_count": 31,
   "id": "a600c638",
   "metadata": {},
   "outputs": [
    {
     "data": {
      "text/plain": [
       "array([0., 0., 0., 0., 0., 0., 0., 0., 0., 0.])"
      ]
     },
     "execution_count": 31,
     "metadata": {},
     "output_type": "execute_result"
    }
   ],
   "source": [
    "var"
   ]
  },
  {
   "cell_type": "code",
   "execution_count": 38,
   "id": "69b8c212",
   "metadata": {},
   "outputs": [],
   "source": [
    "var = np.zeros((3,4,5))"
   ]
  },
  {
   "cell_type": "code",
   "execution_count": 39,
   "id": "19b6f206",
   "metadata": {},
   "outputs": [
    {
     "data": {
      "text/plain": [
       "array([[[0., 0., 0., 0., 0.],\n",
       "        [0., 0., 0., 0., 0.],\n",
       "        [0., 0., 0., 0., 0.],\n",
       "        [0., 0., 0., 0., 0.]],\n",
       "\n",
       "       [[0., 0., 0., 0., 0.],\n",
       "        [0., 0., 0., 0., 0.],\n",
       "        [0., 0., 0., 0., 0.],\n",
       "        [0., 0., 0., 0., 0.]],\n",
       "\n",
       "       [[0., 0., 0., 0., 0.],\n",
       "        [0., 0., 0., 0., 0.],\n",
       "        [0., 0., 0., 0., 0.],\n",
       "        [0., 0., 0., 0., 0.]]])"
      ]
     },
     "execution_count": 39,
     "metadata": {},
     "output_type": "execute_result"
    }
   ],
   "source": [
    "var"
   ]
  },
  {
   "cell_type": "code",
   "execution_count": 40,
   "id": "79470dcd",
   "metadata": {},
   "outputs": [
    {
     "data": {
      "text/plain": [
       "3"
      ]
     },
     "execution_count": 40,
     "metadata": {},
     "output_type": "execute_result"
    }
   ],
   "source": [
    "var.ndim"
   ]
  },
  {
   "cell_type": "code",
   "execution_count": 41,
   "id": "939cd4d5",
   "metadata": {},
   "outputs": [
    {
     "data": {
      "text/plain": [
       "array([1., 1., 1., 1., 1., 1., 1., 1., 1., 1.])"
      ]
     },
     "execution_count": 41,
     "metadata": {},
     "output_type": "execute_result"
    }
   ],
   "source": [
    "np.ones(10)"
   ]
  },
  {
   "cell_type": "code",
   "execution_count": 42,
   "id": "5b2bcaae",
   "metadata": {},
   "outputs": [
    {
     "data": {
      "text/plain": [
       "array([[[1., 1., 1., 1., 1.],\n",
       "        [1., 1., 1., 1., 1.],\n",
       "        [1., 1., 1., 1., 1.],\n",
       "        [1., 1., 1., 1., 1.]],\n",
       "\n",
       "       [[1., 1., 1., 1., 1.],\n",
       "        [1., 1., 1., 1., 1.],\n",
       "        [1., 1., 1., 1., 1.],\n",
       "        [1., 1., 1., 1., 1.]],\n",
       "\n",
       "       [[1., 1., 1., 1., 1.],\n",
       "        [1., 1., 1., 1., 1.],\n",
       "        [1., 1., 1., 1., 1.],\n",
       "        [1., 1., 1., 1., 1.]]])"
      ]
     },
     "execution_count": 42,
     "metadata": {},
     "output_type": "execute_result"
    }
   ],
   "source": [
    "np.ones((3,4,5))"
   ]
  },
  {
   "cell_type": "markdown",
   "id": "44ff334b",
   "metadata": {},
   "source": [
    "# functions"
   ]
  },
  {
   "cell_type": "code",
   "execution_count": 43,
   "id": "8691c739",
   "metadata": {},
   "outputs": [],
   "source": [
    "var = np.array([22,33,44])"
   ]
  },
  {
   "cell_type": "code",
   "execution_count": 44,
   "id": "c66f574e",
   "metadata": {},
   "outputs": [
    {
     "data": {
      "text/plain": [
       "array([22, 33, 44])"
      ]
     },
     "execution_count": 44,
     "metadata": {},
     "output_type": "execute_result"
    }
   ],
   "source": [
    "var"
   ]
  },
  {
   "cell_type": "code",
   "execution_count": 45,
   "id": "7024ed09",
   "metadata": {},
   "outputs": [
    {
     "data": {
      "text/plain": [
       "numpy.ndarray"
      ]
     },
     "execution_count": 45,
     "metadata": {},
     "output_type": "execute_result"
    }
   ],
   "source": [
    "type(var)"
   ]
  },
  {
   "cell_type": "code",
   "execution_count": 46,
   "id": "b8ef68b5",
   "metadata": {},
   "outputs": [
    {
     "data": {
      "text/plain": [
       "2"
      ]
     },
     "execution_count": 46,
     "metadata": {},
     "output_type": "execute_result"
    }
   ],
   "source": [
    "var.argmax()  # max value in index position"
   ]
  },
  {
   "cell_type": "code",
   "execution_count": 47,
   "id": "dc27883e",
   "metadata": {},
   "outputs": [
    {
     "data": {
      "text/plain": [
       "0"
      ]
     },
     "execution_count": 47,
     "metadata": {},
     "output_type": "execute_result"
    }
   ],
   "source": [
    "var.argmin() # min index values"
   ]
  },
  {
   "cell_type": "code",
   "execution_count": 48,
   "id": "88dd3c77",
   "metadata": {},
   "outputs": [
    {
     "data": {
      "text/plain": [
       "<memory at 0x000001D57247BE80>"
      ]
     },
     "execution_count": 48,
     "metadata": {},
     "output_type": "execute_result"
    }
   ],
   "source": [
    "var.data"
   ]
  },
  {
   "cell_type": "code",
   "execution_count": 49,
   "id": "dae0d20c",
   "metadata": {},
   "outputs": [
    {
     "data": {
      "text/plain": [
       "dtype('int32')"
      ]
     },
     "execution_count": 49,
     "metadata": {},
     "output_type": "execute_result"
    }
   ],
   "source": [
    "var.dtype"
   ]
  },
  {
   "cell_type": "code",
   "execution_count": 50,
   "id": "51e66833",
   "metadata": {},
   "outputs": [
    {
     "data": {
      "text/plain": [
       "'int32'"
      ]
     },
     "execution_count": 50,
     "metadata": {},
     "output_type": "execute_result"
    }
   ],
   "source": [
    "var.dtype.name"
   ]
  },
  {
   "cell_type": "code",
   "execution_count": 51,
   "id": "a7a1a669",
   "metadata": {},
   "outputs": [
    {
     "data": {
      "text/plain": [
       "4"
      ]
     },
     "execution_count": 51,
     "metadata": {},
     "output_type": "execute_result"
    }
   ],
   "source": [
    "var.itemsize"
   ]
  },
  {
   "cell_type": "code",
   "execution_count": 52,
   "id": "1aedd08e",
   "metadata": {},
   "outputs": [
    {
     "data": {
      "text/plain": [
       "array([22, 33, 44])"
      ]
     },
     "execution_count": 52,
     "metadata": {},
     "output_type": "execute_result"
    }
   ],
   "source": [
    "var"
   ]
  },
  {
   "cell_type": "code",
   "execution_count": 53,
   "id": "c6de175e",
   "metadata": {},
   "outputs": [
    {
     "data": {
      "text/plain": [
       "33"
      ]
     },
     "execution_count": 53,
     "metadata": {},
     "output_type": "execute_result"
    }
   ],
   "source": [
    "var[1]"
   ]
  },
  {
   "cell_type": "code",
   "execution_count": 54,
   "id": "1883dfbf",
   "metadata": {},
   "outputs": [
    {
     "data": {
      "text/plain": [
       "22"
      ]
     },
     "execution_count": 54,
     "metadata": {},
     "output_type": "execute_result"
    }
   ],
   "source": [
    "var[0]"
   ]
  },
  {
   "cell_type": "code",
   "execution_count": 55,
   "id": "c313dc81",
   "metadata": {},
   "outputs": [
    {
     "data": {
      "text/plain": [
       "array([22, 33])"
      ]
     },
     "execution_count": 55,
     "metadata": {},
     "output_type": "execute_result"
    }
   ],
   "source": [
    "var[0:2]"
   ]
  },
  {
   "cell_type": "code",
   "execution_count": 56,
   "id": "b6e36483",
   "metadata": {},
   "outputs": [
    {
     "data": {
      "text/plain": [
       "array([22, 33, 44])"
      ]
     },
     "execution_count": 56,
     "metadata": {},
     "output_type": "execute_result"
    }
   ],
   "source": [
    "var[0:3]"
   ]
  },
  {
   "cell_type": "code",
   "execution_count": 57,
   "id": "10d62add",
   "metadata": {},
   "outputs": [],
   "source": [
    "lst = [3,4,5]"
   ]
  },
  {
   "cell_type": "code",
   "execution_count": 58,
   "id": "f4359428",
   "metadata": {},
   "outputs": [
    {
     "data": {
      "text/plain": [
       "[3, 4, 5]"
      ]
     },
     "execution_count": 58,
     "metadata": {},
     "output_type": "execute_result"
    }
   ],
   "source": [
    "lst"
   ]
  },
  {
   "cell_type": "code",
   "execution_count": 59,
   "id": "e2b181d3",
   "metadata": {},
   "outputs": [],
   "source": [
    "lst[1] = 444"
   ]
  },
  {
   "cell_type": "code",
   "execution_count": 60,
   "id": "a0cb1386",
   "metadata": {},
   "outputs": [
    {
     "data": {
      "text/plain": [
       "[3, 444, 5]"
      ]
     },
     "execution_count": 60,
     "metadata": {},
     "output_type": "execute_result"
    }
   ],
   "source": [
    "lst"
   ]
  },
  {
   "cell_type": "code",
   "execution_count": 61,
   "id": "d7ac76dc",
   "metadata": {},
   "outputs": [
    {
     "data": {
      "text/plain": [
       "array([22, 33, 44])"
      ]
     },
     "execution_count": 61,
     "metadata": {},
     "output_type": "execute_result"
    }
   ],
   "source": [
    "var"
   ]
  },
  {
   "cell_type": "code",
   "execution_count": 62,
   "id": "3ceecff2",
   "metadata": {},
   "outputs": [],
   "source": [
    "var[0] = 1000"
   ]
  },
  {
   "cell_type": "code",
   "execution_count": 63,
   "id": "6ea7968e",
   "metadata": {},
   "outputs": [
    {
     "data": {
      "text/plain": [
       "array([1000,   33,   44])"
      ]
     },
     "execution_count": 63,
     "metadata": {},
     "output_type": "execute_result"
    }
   ],
   "source": [
    "var"
   ]
  },
  {
   "cell_type": "code",
   "execution_count": 65,
   "id": "85f5cdbc",
   "metadata": {},
   "outputs": [],
   "source": [
    "arr = np.array([[1,2,3,4],[2,3,4,5]], dtype = complex)"
   ]
  },
  {
   "cell_type": "code",
   "execution_count": 66,
   "id": "f2e4ab64",
   "metadata": {},
   "outputs": [
    {
     "data": {
      "text/plain": [
       "array([[1.+0.j, 2.+0.j, 3.+0.j, 4.+0.j],\n",
       "       [2.+0.j, 3.+0.j, 4.+0.j, 5.+0.j]])"
      ]
     },
     "execution_count": 66,
     "metadata": {},
     "output_type": "execute_result"
    }
   ],
   "source": [
    "arr"
   ]
  },
  {
   "cell_type": "code",
   "execution_count": 67,
   "id": "af53004b",
   "metadata": {},
   "outputs": [],
   "source": [
    "# print an array with 10 values by giving max and min\n",
    "aa = np.linspace(0,2,10)"
   ]
  },
  {
   "cell_type": "code",
   "execution_count": 68,
   "id": "69b60438",
   "metadata": {},
   "outputs": [
    {
     "data": {
      "text/plain": [
       "array([0.        , 0.22222222, 0.44444444, 0.66666667, 0.88888889,\n",
       "       1.11111111, 1.33333333, 1.55555556, 1.77777778, 2.        ])"
      ]
     },
     "execution_count": 68,
     "metadata": {},
     "output_type": "execute_result"
    }
   ],
   "source": [
    "aa"
   ]
  },
  {
   "cell_type": "code",
   "execution_count": 69,
   "id": "59179727",
   "metadata": {},
   "outputs": [
    {
     "data": {
      "text/plain": [
       "array([0.        , 0.22039774, 0.42995636, 0.6183698 , 0.77637192,\n",
       "       0.8961922 , 0.9719379 , 0.99988386, 0.9786557 , 0.90929743])"
      ]
     },
     "execution_count": 69,
     "metadata": {},
     "output_type": "execute_result"
    }
   ],
   "source": [
    "np.sin(aa)"
   ]
  },
  {
   "cell_type": "code",
   "execution_count": 70,
   "id": "cbdbced3",
   "metadata": {},
   "outputs": [
    {
     "data": {
      "text/plain": [
       "array([ 0.        ,  0.22595393,  0.47622143,  0.78684289,  1.23179859,\n",
       "        2.01997033,  4.13172899, 65.60839711, -4.76215913, -2.18503986])"
      ]
     },
     "execution_count": 70,
     "metadata": {},
     "output_type": "execute_result"
    }
   ],
   "source": [
    "np.tan(aa)"
   ]
  },
  {
   "cell_type": "code",
   "execution_count": 71,
   "id": "3bd0e64a",
   "metadata": {},
   "outputs": [
    {
     "data": {
      "text/plain": [
       "array([0.        , 0.21863508, 0.41732165, 0.58278295, 0.7108445 ,\n",
       "       0.8044548 , 0.87006166, 0.9146975 , 0.94445565, 0.96402758])"
      ]
     },
     "execution_count": 71,
     "metadata": {},
     "output_type": "execute_result"
    }
   ],
   "source": [
    "np.tanh(aa)"
   ]
  },
  {
   "cell_type": "code",
   "execution_count": 72,
   "id": "089f1663",
   "metadata": {},
   "outputs": [],
   "source": [
    "from numpy import pi"
   ]
  },
  {
   "cell_type": "code",
   "execution_count": 73,
   "id": "ce80ab23",
   "metadata": {},
   "outputs": [
    {
     "data": {
      "text/plain": [
       "array([0.        , 0.6981317 , 1.3962634 , 2.0943951 , 2.7925268 ,\n",
       "       3.4906585 , 4.1887902 , 4.88692191, 5.58505361, 6.28318531])"
      ]
     },
     "execution_count": 73,
     "metadata": {},
     "output_type": "execute_result"
    }
   ],
   "source": [
    "pi*aa"
   ]
  },
  {
   "cell_type": "code",
   "execution_count": 75,
   "id": "be86a70d",
   "metadata": {},
   "outputs": [
    {
     "data": {
      "text/plain": [
       "0.6868623611450168"
      ]
     },
     "execution_count": 75,
     "metadata": {},
     "output_type": "execute_result"
    }
   ],
   "source": [
    "0.21863508*pi"
   ]
  },
  {
   "cell_type": "markdown",
   "id": "efb7a35c",
   "metadata": {},
   "source": [
    "#### reshape and resize"
   ]
  },
  {
   "cell_type": "code",
   "execution_count": 76,
   "id": "45570a78",
   "metadata": {},
   "outputs": [
    {
     "data": {
      "text/plain": [
       "array([ 0,  1,  2,  3,  4,  5,  6,  7,  8,  9, 10, 11])"
      ]
     },
     "execution_count": 76,
     "metadata": {},
     "output_type": "execute_result"
    }
   ],
   "source": [
    "a = np.arange(12)\n",
    "a"
   ]
  },
  {
   "cell_type": "code",
   "execution_count": 77,
   "id": "7b65ac25",
   "metadata": {},
   "outputs": [
    {
     "data": {
      "text/plain": [
       "array([[ 0,  1,  2],\n",
       "       [ 3,  4,  5],\n",
       "       [ 6,  7,  8],\n",
       "       [ 9, 10, 11]])"
      ]
     },
     "execution_count": 77,
     "metadata": {},
     "output_type": "execute_result"
    }
   ],
   "source": [
    "np.arange(12).reshape(4,3)"
   ]
  },
  {
   "cell_type": "code",
   "execution_count": 78,
   "id": "dceb9784",
   "metadata": {},
   "outputs": [
    {
     "data": {
      "text/plain": [
       "array([[ 0,  1],\n",
       "       [ 2,  3],\n",
       "       [ 4,  5],\n",
       "       [ 6,  7],\n",
       "       [ 8,  9],\n",
       "       [10, 11]])"
      ]
     },
     "execution_count": 78,
     "metadata": {},
     "output_type": "execute_result"
    }
   ],
   "source": [
    "a.reshape(6,2)"
   ]
  },
  {
   "cell_type": "code",
   "execution_count": 79,
   "id": "7cedb9dd",
   "metadata": {},
   "outputs": [
    {
     "data": {
      "text/plain": [
       "array([[ 0],\n",
       "       [ 1],\n",
       "       [ 2],\n",
       "       [ 3],\n",
       "       [ 4],\n",
       "       [ 5],\n",
       "       [ 6],\n",
       "       [ 7],\n",
       "       [ 8],\n",
       "       [ 9],\n",
       "       [10],\n",
       "       [11]])"
      ]
     },
     "execution_count": 79,
     "metadata": {},
     "output_type": "execute_result"
    }
   ],
   "source": [
    "a.reshape(12,1)"
   ]
  },
  {
   "cell_type": "code",
   "execution_count": 80,
   "id": "b388d05c",
   "metadata": {},
   "outputs": [],
   "source": [
    "rnge = np.random.default_rng(2)"
   ]
  },
  {
   "cell_type": "code",
   "execution_count": 81,
   "id": "30034612",
   "metadata": {},
   "outputs": [],
   "source": [
    "a = rnge.random((3,4))"
   ]
  },
  {
   "cell_type": "code",
   "execution_count": 82,
   "id": "9176adaf",
   "metadata": {},
   "outputs": [
    {
     "data": {
      "text/plain": [
       "array([[0.26161213, 0.29849114, 0.81422574, 0.09191594],\n",
       "       [0.60010053, 0.72856053, 0.18790107, 0.05514663],\n",
       "       [0.27496937, 0.65743301, 0.56226566, 0.15006226]])"
      ]
     },
     "execution_count": 82,
     "metadata": {},
     "output_type": "execute_result"
    }
   ],
   "source": [
    "a"
   ]
  },
  {
   "cell_type": "code",
   "execution_count": 83,
   "id": "1e99504b",
   "metadata": {},
   "outputs": [
    {
     "data": {
      "text/plain": [
       "4.682684022737332"
      ]
     },
     "execution_count": 83,
     "metadata": {},
     "output_type": "execute_result"
    }
   ],
   "source": [
    "a.sum()"
   ]
  },
  {
   "cell_type": "code",
   "execution_count": 84,
   "id": "f35399cd",
   "metadata": {},
   "outputs": [
    {
     "data": {
      "text/plain": [
       "array([1.13668203, 1.68448469, 1.56439248, 0.29712483])"
      ]
     },
     "execution_count": 84,
     "metadata": {},
     "output_type": "execute_result"
    }
   ],
   "source": [
    "a.sum(axis = 0)"
   ]
  },
  {
   "cell_type": "code",
   "execution_count": 86,
   "id": "cfd145e9",
   "metadata": {},
   "outputs": [
    {
     "data": {
      "text/plain": [
       "array([1.46624496, 1.57170875, 1.64473031])"
      ]
     },
     "execution_count": 86,
     "metadata": {},
     "output_type": "execute_result"
    }
   ],
   "source": [
    "a.sum(axis = 1)"
   ]
  },
  {
   "cell_type": "code",
   "execution_count": 87,
   "id": "b0cddbb1",
   "metadata": {},
   "outputs": [
    {
     "data": {
      "text/plain": [
       "array([0.26161213, 0.56010328, 1.37432902, 1.46624496, 2.06634549,\n",
       "       2.79490601, 2.98280709, 3.03795371, 3.31292308, 3.9703561 ,\n",
       "       4.53262176, 4.68268402])"
      ]
     },
     "execution_count": 87,
     "metadata": {},
     "output_type": "execute_result"
    }
   ],
   "source": [
    "a.cumsum()"
   ]
  },
  {
   "cell_type": "code",
   "execution_count": 88,
   "id": "25fb1e9e",
   "metadata": {},
   "outputs": [
    {
     "data": {
      "text/plain": [
       "array([2.61612134e-01, 7.80889051e-02, 6.35819966e-02, 5.84419912e-03,\n",
       "       3.50710696e-03, 2.55513970e-03, 4.80113492e-04, 2.64766398e-05,\n",
       "       7.28026491e-06, 4.78628651e-06, 2.69116456e-06, 4.03842244e-07])"
      ]
     },
     "execution_count": 88,
     "metadata": {},
     "output_type": "execute_result"
    }
   ],
   "source": [
    "a.cumprod()"
   ]
  },
  {
   "cell_type": "code",
   "execution_count": 89,
   "id": "bf9985de",
   "metadata": {},
   "outputs": [
    {
     "data": {
      "text/plain": [
       "array([[0.26161213, 0.29849114, 0.81422574, 0.09191594],\n",
       "       [0.60010053, 0.72856053, 0.18790107, 0.05514663],\n",
       "       [0.27496937, 0.65743301, 0.56226566, 0.15006226]])"
      ]
     },
     "execution_count": 89,
     "metadata": {},
     "output_type": "execute_result"
    }
   ],
   "source": [
    "a"
   ]
  },
  {
   "cell_type": "code",
   "execution_count": 90,
   "id": "2f9820e3",
   "metadata": {},
   "outputs": [
    {
     "data": {
      "text/plain": [
       "0.8142257405942803"
      ]
     },
     "execution_count": 90,
     "metadata": {},
     "output_type": "execute_result"
    }
   ],
   "source": [
    "a.max()"
   ]
  },
  {
   "cell_type": "code",
   "execution_count": 91,
   "id": "71e5a70c",
   "metadata": {},
   "outputs": [
    {
     "data": {
      "text/plain": [
       "0.05514662733306819"
      ]
     },
     "execution_count": 91,
     "metadata": {},
     "output_type": "execute_result"
    }
   ],
   "source": [
    "a.min()"
   ]
  },
  {
   "cell_type": "code",
   "execution_count": 92,
   "id": "ec220f8b",
   "metadata": {},
   "outputs": [],
   "source": [
    "q = 567890"
   ]
  },
  {
   "cell_type": "code",
   "execution_count": 93,
   "id": "58ff381e",
   "metadata": {},
   "outputs": [
    {
     "data": {
      "text/plain": [
       "753.5847663003811"
      ]
     },
     "execution_count": 93,
     "metadata": {},
     "output_type": "execute_result"
    }
   ],
   "source": [
    "np.sqrt(q)"
   ]
  },
  {
   "cell_type": "code",
   "execution_count": 94,
   "id": "f0f7af21",
   "metadata": {},
   "outputs": [],
   "source": [
    "x = [1,2,3,5,6]"
   ]
  },
  {
   "cell_type": "code",
   "execution_count": 96,
   "id": "6f062caa",
   "metadata": {},
   "outputs": [
    {
     "data": {
      "text/plain": [
       "array([1.        , 1.41421356, 1.73205081, 2.23606798, 2.44948974])"
      ]
     },
     "execution_count": 96,
     "metadata": {},
     "output_type": "execute_result"
    }
   ],
   "source": [
    "np.sqrt(x)"
   ]
  },
  {
   "cell_type": "code",
   "execution_count": 97,
   "id": "27a10312",
   "metadata": {},
   "outputs": [
    {
     "data": {
      "text/plain": [
       "array([0.        , 0.69314718, 1.09861229, 1.60943791, 1.79175947])"
      ]
     },
     "execution_count": 97,
     "metadata": {},
     "output_type": "execute_result"
    }
   ],
   "source": [
    "np.log(x)"
   ]
  },
  {
   "cell_type": "code",
   "execution_count": 98,
   "id": "b00cef13",
   "metadata": {},
   "outputs": [
    {
     "data": {
      "text/plain": [
       "array([  2.71828183,   7.3890561 ,  20.08553692, 148.4131591 ,\n",
       "       403.42879349])"
      ]
     },
     "execution_count": 98,
     "metadata": {},
     "output_type": "execute_result"
    }
   ],
   "source": [
    "np.exp(x)"
   ]
  },
  {
   "cell_type": "code",
   "execution_count": 99,
   "id": "3fb86412",
   "metadata": {},
   "outputs": [
    {
     "data": {
      "text/plain": [
       "array([[0.26161213, 0.29849114, 0.81422574, 0.09191594],\n",
       "       [0.60010053, 0.72856053, 0.18790107, 0.05514663],\n",
       "       [0.27496937, 0.65743301, 0.56226566, 0.15006226]])"
      ]
     },
     "execution_count": 99,
     "metadata": {},
     "output_type": "execute_result"
    }
   ],
   "source": [
    "a"
   ]
  },
  {
   "cell_type": "code",
   "execution_count": 101,
   "id": "d8a91588",
   "metadata": {},
   "outputs": [
    {
     "data": {
      "text/plain": [
       "(3, 4)"
      ]
     },
     "execution_count": 101,
     "metadata": {},
     "output_type": "execute_result"
    }
   ],
   "source": [
    "a.shape"
   ]
  },
  {
   "cell_type": "markdown",
   "id": "36f4fc86",
   "metadata": {},
   "source": [
    "### transpose"
   ]
  },
  {
   "cell_type": "code",
   "execution_count": 102,
   "id": "8b1568ee",
   "metadata": {},
   "outputs": [],
   "source": [
    "aa = a.T"
   ]
  },
  {
   "cell_type": "code",
   "execution_count": 103,
   "id": "cc380479",
   "metadata": {},
   "outputs": [
    {
     "data": {
      "text/plain": [
       "(4, 3)"
      ]
     },
     "execution_count": 103,
     "metadata": {},
     "output_type": "execute_result"
    }
   ],
   "source": [
    "aa.shape"
   ]
  },
  {
   "cell_type": "markdown",
   "id": "f8e80667",
   "metadata": {},
   "source": [
    "## reverse"
   ]
  },
  {
   "cell_type": "code",
   "execution_count": 104,
   "id": "2b67dcaf",
   "metadata": {},
   "outputs": [
    {
     "data": {
      "text/plain": [
       "array([[0.26161213, 0.29849114, 0.81422574, 0.09191594],\n",
       "       [0.60010053, 0.72856053, 0.18790107, 0.05514663],\n",
       "       [0.27496937, 0.65743301, 0.56226566, 0.15006226]])"
      ]
     },
     "execution_count": 104,
     "metadata": {},
     "output_type": "execute_result"
    }
   ],
   "source": [
    "a"
   ]
  },
  {
   "cell_type": "code",
   "execution_count": 118,
   "id": "aba2dbf9",
   "metadata": {},
   "outputs": [],
   "source": [
    "aaa =  np.linspace(1,4,10)"
   ]
  },
  {
   "cell_type": "code",
   "execution_count": 119,
   "id": "507c962a",
   "metadata": {
    "scrolled": true
   },
   "outputs": [
    {
     "data": {
      "text/plain": [
       "array([1.        , 1.33333333, 1.66666667, 2.        , 2.33333333,\n",
       "       2.66666667, 3.        , 3.33333333, 3.66666667, 4.        ])"
      ]
     },
     "execution_count": 119,
     "metadata": {},
     "output_type": "execute_result"
    }
   ],
   "source": [
    "aaa"
   ]
  },
  {
   "cell_type": "code",
   "execution_count": 110,
   "id": "d56d5aa6",
   "metadata": {},
   "outputs": [],
   "source": [
    "aaa = np.array([[3,3,3],[4,4,4]])"
   ]
  },
  {
   "cell_type": "code",
   "execution_count": 115,
   "id": "ec5a666f",
   "metadata": {},
   "outputs": [],
   "source": [
    "ax = aaa.sort(axis = 0)"
   ]
  },
  {
   "cell_type": "code",
   "execution_count": 116,
   "id": "af27b861",
   "metadata": {},
   "outputs": [],
   "source": [
    "ax"
   ]
  },
  {
   "cell_type": "code",
   "execution_count": 120,
   "id": "1a7b24c2",
   "metadata": {},
   "outputs": [
    {
     "data": {
      "text/plain": [
       "array([1.        , 1.33333333, 1.66666667, 2.        , 2.33333333,\n",
       "       2.66666667, 3.        , 3.33333333, 3.66666667, 4.        ])"
      ]
     },
     "execution_count": 120,
     "metadata": {},
     "output_type": "execute_result"
    }
   ],
   "source": [
    "aaa"
   ]
  },
  {
   "cell_type": "code",
   "execution_count": 123,
   "id": "30d961cd",
   "metadata": {},
   "outputs": [
    {
     "data": {
      "text/plain": [
       "4.0"
      ]
     },
     "execution_count": 123,
     "metadata": {},
     "output_type": "execute_result"
    }
   ],
   "source": [
    "aaa[-1]"
   ]
  },
  {
   "cell_type": "code",
   "execution_count": 121,
   "id": "3134f2bc",
   "metadata": {},
   "outputs": [
    {
     "data": {
      "text/plain": [
       "array([4.        , 3.66666667, 3.33333333, 3.        , 2.66666667,\n",
       "       2.33333333, 2.        , 1.66666667, 1.33333333, 1.        ])"
      ]
     },
     "execution_count": 121,
     "metadata": {},
     "output_type": "execute_result"
    }
   ],
   "source": [
    "aaa[::-1]"
   ]
  },
  {
   "cell_type": "code",
   "execution_count": 122,
   "id": "e9f77a73",
   "metadata": {},
   "outputs": [
    {
     "data": {
      "text/plain": [
       "4.0"
      ]
     },
     "execution_count": 122,
     "metadata": {},
     "output_type": "execute_result"
    }
   ],
   "source": [
    "np.floor(4.4)"
   ]
  },
  {
   "cell_type": "code",
   "execution_count": 124,
   "id": "59ea487f",
   "metadata": {},
   "outputs": [
    {
     "data": {
      "text/plain": [
       "6.0"
      ]
     },
     "execution_count": 124,
     "metadata": {},
     "output_type": "execute_result"
    }
   ],
   "source": [
    "np.ceil(5.5)"
   ]
  },
  {
   "cell_type": "code",
   "execution_count": 125,
   "id": "ee9e4814",
   "metadata": {},
   "outputs": [
    {
     "data": {
      "text/plain": [
       "66.56789"
      ]
     },
     "execution_count": 125,
     "metadata": {},
     "output_type": "execute_result"
    }
   ],
   "source": [
    "np.abs(66.567890)"
   ]
  }
 ],
 "metadata": {
  "kernelspec": {
   "display_name": "Python 3 (ipykernel)",
   "language": "python",
   "name": "python3"
  },
  "language_info": {
   "codemirror_mode": {
    "name": "ipython",
    "version": 3
   },
   "file_extension": ".py",
   "mimetype": "text/x-python",
   "name": "python",
   "nbconvert_exporter": "python",
   "pygments_lexer": "ipython3",
   "version": "3.7.6"
  }
 },
 "nbformat": 4,
 "nbformat_minor": 5
}
